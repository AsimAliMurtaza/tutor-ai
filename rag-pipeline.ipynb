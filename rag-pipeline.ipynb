{
 "cells": [
  {
   "cell_type": "code",
   "execution_count": null,
   "metadata": {},
   "outputs": [],
   "source": [
    "import os\n",
    "import re\n",
    "import faiss\n",
    "import numpy as np\n",
    "import PyPDF2\n",
    "from sentence_transformers import SentenceTransformer\n",
    "from transformers import pipeline, AutoModelForCausalLM, AutoTokenizer\n",
    "import ollama"
   ]
  },
  {
   "cell_type": "code",
   "execution_count": 3,
   "metadata": {},
   "outputs": [],
   "source": [
    "def extract_text_from_pdf(pdf_path):\n",
    "    \"\"\"Extract text from a PDF file.\"\"\"\n",
    "    text = ''\n",
    "    with open(pdf_path, 'rb') as file:\n",
    "        reader = PyPDF2.PdfReader(file)\n",
    "        for page in reader.pages:\n",
    "            page_text = page.extract_text()\n",
    "            if page_text:\n",
    "                text += page_text + ' '\n",
    "    return text.strip()"
   ]
  },
  {
   "cell_type": "code",
   "execution_count": 4,
   "metadata": {},
   "outputs": [],
   "source": [
    "def clean_text(text):\n",
    "    \"\"\"Clean and normalize the extracted text.\"\"\"\n",
    "    text = re.sub(\n",
    "        r'\\s+', ' ', text)  \n",
    "    text = re.sub(r'[^\\w\\s.,;!?]', '', text)\n",
    "    return text.lower().strip()\n"
   ]
  },
  {
   "cell_type": "code",
   "execution_count": 5,
   "metadata": {},
   "outputs": [],
   "source": [
    "def chunk_text(text, chunk_size=500):\n",
    "    \"\"\"Split the text into smaller chunks of fixed size.\"\"\"\n",
    "    words = text.split()\n",
    "    chunks = [' '.join(words[i:i + chunk_size])\n",
    "              for i in range(0, len(words), chunk_size)]\n",
    "    return chunks if chunks else [\"No meaningful text found.\"]\n"
   ]
  },
  {
   "cell_type": "code",
   "execution_count": 6,
   "metadata": {},
   "outputs": [],
   "source": [
    "def generate_embeddings(chunks):\n",
    "    \"\"\"Generate embeddings for text chunks using a pre-trained model.\"\"\"\n",
    "    model = SentenceTransformer('all-MiniLM-L6-v2')\n",
    "    embeddings = model.encode(chunks, convert_to_numpy=True)\n",
    "    return np.array(embeddings, dtype=np.float32)\n"
   ]
  },
  {
   "cell_type": "code",
   "execution_count": 7,
   "metadata": {},
   "outputs": [],
   "source": [
    "def create_faiss_index(embeddings):\n",
    "    \"\"\"Create a FAISS index for the embeddings.\"\"\"\n",
    "    if embeddings is None or len(embeddings) == 0:\n",
    "        raise ValueError(\n",
    "            \"Embeddings are empty. Ensure text extraction is successful.\")\n",
    "\n",
    "    embeddings = np.array(embeddings, dtype=np.float32)\n",
    "\n",
    "    if len(embeddings.shape) == 1:\n",
    "        embeddings = embeddings.reshape(1, -1)  # Convert (N,) to (1, N)\n",
    "\n",
    "    dimension = embeddings.shape[1]  # Extract the embedding dimension\n",
    "    index = faiss.IndexFlatL2(dimension)  # L2 distance for similarity search\n",
    "    index.add(embeddings)\n",
    "    return index\n"
   ]
  },
  {
   "cell_type": "code",
   "execution_count": 8,
   "metadata": {},
   "outputs": [],
   "source": [
    "def save_knowledge_base(index, chunks, index_path, chunks_path):\n",
    "    \"\"\"Save the FAISS index and text chunks to disk.\"\"\"\n",
    "    faiss.write_index(index, index_path)\n",
    "    with open(chunks_path, 'w', encoding='utf-8') as f:\n",
    "        for chunk in chunks:\n",
    "            f.write(chunk + '\\n')"
   ]
  },
  {
   "cell_type": "code",
   "execution_count": 9,
   "metadata": {},
   "outputs": [],
   "source": [
    "\n",
    "def load_knowledge_base(index_path, chunks_path):\n",
    "    \"\"\"Load the FAISS index and text chunks from disk.\"\"\"\n",
    "    if not os.path.exists(index_path) or not os.path.exists(chunks_path):\n",
    "        raise FileNotFoundError(\"Knowledge base files are missing.\")\n",
    "\n",
    "    index = faiss.read_index(index_path)\n",
    "    with open(chunks_path, 'r', encoding='utf-8') as f:\n",
    "        chunks = f.read().splitlines()\n",
    "    return index, chunks"
   ]
  },
  {
   "cell_type": "code",
   "execution_count": 10,
   "metadata": {},
   "outputs": [],
   "source": [
    "def retrieve_relevant_chunks(query, index, chunks, top_k):\n",
    "    \"\"\"Retrieve the top-k most relevant chunks for a given query.\"\"\"\n",
    "    model = SentenceTransformer('all-MiniLM-L6-v2')\n",
    "    query_embedding = model.encode([query], convert_to_numpy=True)\n",
    "\n",
    "    distances, indices = index.search(query_embedding, top_k)\n",
    "    relevant_chunks = [chunks[i] for i in indices[0] if i < len(chunks)]\n",
    "\n",
    "    return relevant_chunks if relevant_chunks else [\"No relevant data found.\"]"
   ]
  },
  {
   "cell_type": "code",
   "execution_count": 10,
   "metadata": {},
   "outputs": [],
   "source": [
    "# # Step 9: Generate Response using a Pretrained Model\n",
    "\n",
    "# def generate_response(query, context):\n",
    "#     \"\"\"Generate a response based on retrieved chunks using a text generator model.\"\"\"\n",
    "\n",
    "#     # Load the text generation model\n",
    "#     generator = pipeline(\"text-generation\", model=\"gpt2\")\n",
    "\n",
    "#     # Limit context length to avoid exceeding model's max length (GPT-2 has a 1024 token limit)\n",
    "#     max_context_length = 800  # Keeping some space for query & generated output\n",
    "#     truncated_context = context[:max_context_length]  # Truncate if needed\n",
    "\n",
    "#     # Construct the prompt\n",
    "#     prompt = f\"Answer the following question based on the context:\\n\\nContext: {truncated_context}\\n\\nQuestion: {query}\\nAnswer:\"\n",
    "\n",
    "#     # Generate response (fix: use max_new_tokens instead of max_length)\n",
    "#     response = generator(prompt, max_new_tokens=500, num_return_sequences=1)[\n",
    "#         0]['generated_text']\n",
    "\n",
    "#     return response\n"
   ]
  },
  {
   "cell_type": "code",
   "execution_count": 23,
   "metadata": {},
   "outputs": [],
   "source": [
    "\n",
    "def generate_text(prompt, model):\n",
    "    for response in ollama.chat(model=model, messages=[{\"role\": \"user\", \"content\": prompt}], stream=True):\n",
    "        print(response[\"message\"][\"content\"], end=\"\", flush=True) "
   ]
  },
  {
   "cell_type": "code",
   "execution_count": 12,
   "metadata": {},
   "outputs": [],
   "source": [
    "pdf_folder = \"/\"  \n",
    "index_path = \"knowledge_base.index\"\n",
    "chunks_path = \"knowledge_base.txt\"\n",
    "\n",
    "if not os.path.exists(pdf_folder):\n",
    "    raise FileNotFoundError(f\"PDF folder '{pdf_folder}' not found.\")\n",
    "\n",
    "pdf_file = open('book.pdf', 'rb')\n",
    "pdf_reader = PyPDF2.PdfReader(pdf_file)\n",
    "\n",
    "text_data = []\n",
    "for page in pdf_reader.pages[32:]:\n",
    "    text_data.append(page.extract_text())\n",
    "\n",
    "pdf_file.close()\n",
    "\n",
    "full_text = \" \".join(text_data)\n",
    "if not full_text.strip():\n",
    "    raise ValueError(\n",
    "        \"No text extracted from PDFs. Check if files contain selectable text.\")"
   ]
  },
  {
   "cell_type": "code",
   "execution_count": null,
   "metadata": {},
   "outputs": [],
   "source": [
    "cleaned_text = clean_text(full_text)\n",
    "chunks = chunk_text(cleaned_text, chunk_size=500)\n",
    "embeddings = generate_embeddings(chunks)\n",
    "print(\n",
    "    f\"Generated {len(embeddings)} embeddings with shape: {embeddings.shape}\")\n",
    "\n",
    "index = create_faiss_index(embeddings)\n",
    "save_knowledge_base(index, chunks, index_path, chunks_path)\n",
    "index, chunks = load_knowledge_base(index_path, chunks_path)"
   ]
  },
  {
   "cell_type": "code",
   "execution_count": null,
   "metadata": {},
   "outputs": [],
   "source": [
    "import chromadb\n",
    "\n",
    "chroma_client = chromadb.PersistentClient(path=\"./chroma_db\")\n",
    "collection = chroma_client.get_or_create_collection(name=\"knowledge_base\")\n",
    "\n",
    "for i, chunk in enumerate(chunks):\n",
    "    collection.add(\n",
    "        documents=[chunk],\n",
    "        metadatas=[{\"source\": \"Networking\"}], \n",
    "        ids=[str(i)]\n",
    "    )"
   ]
  },
  {
   "cell_type": "code",
   "execution_count": 18,
   "metadata": {},
   "outputs": [],
   "source": [
    "def retrieve_relevant_chunkss(query, collection, top_k):\n",
    "    results = collection.query(\n",
    "        query_texts=[query], \n",
    "        n_results=top_k \n",
    "    )\n",
    "    return results[\"documents\"][0]  "
   ]
  },
  {
   "cell_type": "code",
   "execution_count": 26,
   "metadata": {},
   "outputs": [
    {
     "name": "stdout",
     "output_type": "stream",
     "text": [
      "\n",
      "🔍 Relevant Chunks:\n",
      "1. the challenges of agility and quality that comes with cloud scale, his team has developed and embraced custom hardware, machine learning, and open source. albert moved to microsoft in 2007 to innovate on cloud and bring networking to the host network virtualization, ideas that appeared, among many, in his vl2 paper, and which underly cloud networking today. prior to joining microsoft, albert worked at bell labs and att labs as an att fellow. he helped build the systems and tools that run atts networks, and pioneered the architecture and systems at the foundations of softwaredefined networking. he holds an ab in mathematics from dartmouth college and a phd in computer science from the university of washington. albert is a member of the national academy of engineering, and an acm fellow. he has received the ieee koji kobayashi computer and communication award, acm sigcomm award, and acm sigcomm and sigmetrics test of time paper awards. albert and wife kathryn are proud parents of four daughters. he grew up in new orleans. while the seattle seahawks are his team, he cannot shake his fondness for the saints. m06_kuro5469_08_ge_c06.indd 558 29042021 1946 559 what brought you to specialize in networking? ive always liked solving realworld problems, and also liked mathematics. ive found that the field of networking has lots of room and scope to do both. that mix was very appealing to me. while working on a phd at the university of washington, i benefited from the influence of ed lazowska on the systems side, and richard ladner and martin tompa on the mathematical and theoretical side. one of my ms course projects was to get two machines from the same vendor to talk to each other. now it seems you cant stop machines from communicating! do you have any advice for students entering the networkinginternet field? the face of networking is changing. its becoming a very diverse, inclusive and open environment. i mean that in two ways. first, we will see far much more diversity among our network developers and researchers, including women and other underrepresented groups in technology. im proud of the diversity and inclusivity of the team at microsoft, and my earlier teams at att. diversity makes us more resilient, better able to adapt to change, and makes our decisions better. second, one can bring a diversity of technical skills and interests to networking. those interests might be in architecture, programming languages, optics, formal methods, data science, ai, or in fault tolerant and reliable system design. open source systems are having enormous impact. sonic, a linuxbased an open source initiative for networking operating systems, is a great example. read this book, and bring your whole set of skills, experience and knowledge set to creating the networks of the future. sdn and disaggregation brings diversity and openness. so exciting. can you describe one or two of the most exciting projects you have worked on during your career? what were the biggest challenges? the cloud is by far the biggest thing to\n",
      "\n",
      "2. mckeown 2008; openflow 2009 and a single sdn controller nox gude 2008. since then, the number of sdn controllers in particular has grown significantly kreutz 2015. some sdn controllers are companyspecific and proprietary, particularly when used to control internal proprietary networks e.g., within or among a companys data centers. but many more controllers are opensource and implemented in a variety of programming languages erickson 2013. most recently, the opendaylight controller opendaylight 2020 and the onos controller onos 2020 have found considerable industry support. they are both opensource and are being developed in partnership with the linux foundation. the opendaylight controller figure 5.17 presents a simplified view of the opendaylight odl controller platform opendaylight 2020, eckel 2017. odls basic network functions are at the heart of the controller, and correspond closely to the networkwide state management capabilities that we encountered in figure 5.15. the service abstraction layer sal is the controllers nerve center, allowing controller components and applications to invoke each others services, access configuration and operational data, and to subscribe to events they generate. the sal also provides a uni form abstract interface to specific protocols operating between the odl controller and the controlled devices. these protocols include openflow which we covered in section 4.5, principles in practice m05_kuro5469_08_ge_c05.indd 450 03052021 1643 5.5 the sdn c ontrol plane 451 and the simple network management protocol snmp and the network configuration netconf protocol, both of which well cover in section 5.7. the open vswitch database management protocol ovsdb is used to manage data center switching, an important application area for sdn technology. well introduce data center networking in chapter 6. network orchestrations and applications determine how dataplane forwarding and other services, such as firewalling and load balancing, are accomplished in the controlled devices. odl provides two ways in which applications can interoperate with native controller services and hence devices and with each other. in the apidriven adsal approach, shown in figure 5.17, applications communicate with controller modules using a rest requestresponse api running over http. initial releases of the opendaylight controller provided only the adsal. as odl became increasingly used for network configuration and management, later odl releases introduced a model driven mdsal approach. here, the yang data modeling language rfc 6020 defines models of device, protocol, and network configuration and operational state data. devices are then configured and managed by manipulating this data using the netconf protocol.figure 5.17 a simplified view of the opendaylight controllerrestrestconfnetconf apis enhanced servicesbasic network functions topology processingswitch mgr.stats mgr. aaa device discoveryforwarding rules mgr.host trackernetwork orchestrations and applications northbound apis southbound apis and protocols pluginsservice abstraction layer salmessaging openﬂow netconf snmp ovsdbtrafﬁc engineeringfirewallingload balancing conﬁg. and operational data store m05_kuro5469_08_ge_c05.indd 451 03052021 1643 452 chapter 5 the network layer control plane the onos controller figure 5.18 presents a simplified view of the onos controller onos 2020. similar to the canonical controller in figure 5.15, three layers can be identified in the onos controller northbound abstractions and protocols. a unique feature of onos is its intent\n",
      "\n",
      "3. and life management. professor estrin is an elected member of the american academy of arts and sciences 2007, the national academy of engineering 2009, and the national academy of medicine 2019. she is a fellow of the ieee, acm, and aaas. she was selected as the first acmw athena lecturer 2006, awarded the anita borg institutes women of vision award for innovation 2007, inducted into the witi hall of fame 2008, received honorary doctorates from epfl 2008 and uppsala university 2011, and was selected as a macarthur fellow 2018. m07_kuro5469_08_ge_c07.indd 633 29042021 1519 634 mobile health are as diverse as the problem domains, but what they have in common is the need to keep our eyes open to whether we have the problem definition right as we iterate between design and deployment, prototype and pilot. none of these are problems that could be solved solely analytically, or with simulation or even in constructed laboratory experi ments. they challenged our ability to retain clean architectures in the presence of messy problems and contexts, and they required extensive collaboration. what changes and innovations do you see happening in wireless networks and mobility in the future? in a prior edition of this interview i said that i have never put much faith into predicting the future, but i did go on to speculate that we might see the end of feature phones i.e., those that are not programmable and are used only for voice and text messaging as smart phones become more and more powerful and the primary point of internet access for manyand now not so many years later that is clearly the case. i also predicted that we would see the continued proliferation of embedded sims by which all sorts of devices have the ability to communicate via the cellular network at low data rates. while that has occurred, we see many devices and internet of things that use embedded wifi and other lower power, shorter range, forms of connectivity to local hubs. i did not anticipate at that time the emergence of a large consumer wearables market or interactive voice agents like siri and alexa. by the time the next edition is published i expect broad proliferation of personal applications that leverage data from iot and other digital traces. where do you see the future of networking and the internet? again i think its useful to look both back and forward. previously i commented that the efforts in named data and softwaredefined networking would emerge to create a more manageable, evolvable, and richer infrastructure and more generally represent moving the role of architecture higher up in the stack. in the beginnings of the internet, architecture was layer 4 and below, with applications being more siloedmonolithic, sitting on top. now data and analytics dominate transport. the adoption of sdn which i was really happy to see introduced into the 7th edition of this book has been well beyond what i ever anticipated. that said, new challenges have emerged from higher up\n",
      "\n",
      "Based on the provided context, it appears that the author, Kuroko, is an expert in networking and has a deep understanding of various aspects of the field. Here are some key points that can be inferred about his future predictions for networking and the internet:\n",
      "\n",
      "1. **Mobile Health**: The author mentions mobile health as a diverse problem domain with challenges in defining problems correctly, iterating between design and deployment, prototyping, and piloting. This suggests that he expects significant advancements in mobile health technology in the future.\n",
      "2. **Wireless Networks and Mobility**: The author predicts that we may see the end of feature phones, which are non-programmable devices used only for voice and text messaging. Instead, he expects widespread adoption of smartphones with advanced features like artificial intelligence and machine learning.\n",
      "3. **IoT and Embedded Systems**: The author notes that many IoT devices use embedded WiFi and other lower-power connectivity methods to connect to local hubs. He also mentions a large consumer wearables market and interactive voice agents like Siri and Alexa, which may continue to grow in popularity.\n",
      "4. **Data and Analytics Dominance**: Architecture is shifting from layer 4 and below (i.e., applications on top of transport layers) to data and analytics dominance, where data plays a central role.\n",
      "5. **Named Data and Software-Defined Networking**: The author highlights the efforts towards named data and software-defined networking as a way to create more manageable, evolvable, and richer infrastructure. This suggests that he expects significant advancements in these areas.\n",
      "\n",
      "Overall, Kuroko's predictions indicate that networking will continue to evolve rapidly, with an increasing focus on data-driven decision making, advanced applications like mobile health and IoT, and the integration of artificial intelligence and machine learning into various aspects of network architecture and operation.\n",
      "🔍 Relevant Chunks:\n",
      "1. mckeown 2008; openflow 2009 and a single sdn controller nox gude 2008. since then, the number of sdn controllers in particular has grown significantly kreutz 2015. some sdn controllers are companyspecific and proprietary, particularly when used to control internal proprietary networks e.g., within or among a companys data centers. but many more controllers are opensource and implemented in a variety of programming languages erickson 2013. most recently, the opendaylight controller opendaylight 2020 and the onos controller onos 2020 have found considerable industry support. they are both opensource and are being developed in partnership with the linux foundation. the opendaylight controller figure 5.17 presents a simplified view of the opendaylight odl controller platform opendaylight 2020, eckel 2017. odls basic network functions are at the heart of the controller, and correspond closely to the networkwide state management capabilities that we encountered in figure 5.15. the service abstraction layer sal is the controllers nerve center, allowing controller components and applications to invoke each others services, access configuration and operational data, and to subscribe to events they generate. the sal also provides a uni form abstract interface to specific protocols operating between the odl controller and the controlled devices. these protocols include openflow which we covered in section 4.5, principles in practice m05_kuro5469_08_ge_c05.indd 450 03052021 1643 5.5 the sdn c ontrol plane 451 and the simple network management protocol snmp and the network configuration netconf protocol, both of which well cover in section 5.7. the open vswitch database management protocol ovsdb is used to manage data center switching, an important application area for sdn technology. well introduce data center networking in chapter 6. network orchestrations and applications determine how dataplane forwarding and other services, such as firewalling and load balancing, are accomplished in the controlled devices. odl provides two ways in which applications can interoperate with native controller services and hence devices and with each other. in the apidriven adsal approach, shown in figure 5.17, applications communicate with controller modules using a rest requestresponse api running over http. initial releases of the opendaylight controller provided only the adsal. as odl became increasingly used for network configuration and management, later odl releases introduced a model driven mdsal approach. here, the yang data modeling language rfc 6020 defines models of device, protocol, and network configuration and operational state data. devices are then configured and managed by manipulating this data using the netconf protocol.figure 5.17 a simplified view of the opendaylight controllerrestrestconfnetconf apis enhanced servicesbasic network functions topology processingswitch mgr.stats mgr. aaa device discoveryforwarding rules mgr.host trackernetwork orchestrations and applications northbound apis southbound apis and protocols pluginsservice abstraction layer salmessaging openﬂow netconf snmp ovsdbtrafﬁc engineeringfirewallingload balancing conﬁg. and operational data store m05_kuro5469_08_ge_c05.indd 451 03052021 1643 452 chapter 5 the network layer control plane the onos controller figure 5.18 presents a simplified view of the onos controller onos 2020. similar to the canonical controller in figure 5.15, three layers can be identified in the onos controller northbound abstractions and protocols. a unique feature of onos is its intent\n",
      "\n",
      "2. the challenges of agility and quality that comes with cloud scale, his team has developed and embraced custom hardware, machine learning, and open source. albert moved to microsoft in 2007 to innovate on cloud and bring networking to the host network virtualization, ideas that appeared, among many, in his vl2 paper, and which underly cloud networking today. prior to joining microsoft, albert worked at bell labs and att labs as an att fellow. he helped build the systems and tools that run atts networks, and pioneered the architecture and systems at the foundations of softwaredefined networking. he holds an ab in mathematics from dartmouth college and a phd in computer science from the university of washington. albert is a member of the national academy of engineering, and an acm fellow. he has received the ieee koji kobayashi computer and communication award, acm sigcomm award, and acm sigcomm and sigmetrics test of time paper awards. albert and wife kathryn are proud parents of four daughters. he grew up in new orleans. while the seattle seahawks are his team, he cannot shake his fondness for the saints. m06_kuro5469_08_ge_c06.indd 558 29042021 1946 559 what brought you to specialize in networking? ive always liked solving realworld problems, and also liked mathematics. ive found that the field of networking has lots of room and scope to do both. that mix was very appealing to me. while working on a phd at the university of washington, i benefited from the influence of ed lazowska on the systems side, and richard ladner and martin tompa on the mathematical and theoretical side. one of my ms course projects was to get two machines from the same vendor to talk to each other. now it seems you cant stop machines from communicating! do you have any advice for students entering the networkinginternet field? the face of networking is changing. its becoming a very diverse, inclusive and open environment. i mean that in two ways. first, we will see far much more diversity among our network developers and researchers, including women and other underrepresented groups in technology. im proud of the diversity and inclusivity of the team at microsoft, and my earlier teams at att. diversity makes us more resilient, better able to adapt to change, and makes our decisions better. second, one can bring a diversity of technical skills and interests to networking. those interests might be in architecture, programming languages, optics, formal methods, data science, ai, or in fault tolerant and reliable system design. open source systems are having enormous impact. sonic, a linuxbased an open source initiative for networking operating systems, is a great example. read this book, and bring your whole set of skills, experience and knowledge set to creating the networks of the future. sdn and disaggregation brings diversity and openness. so exciting. can you describe one or two of the most exciting projects you have worked on during your career? what were the biggest challenges? the cloud is by far the biggest thing to\n",
      "\n",
      "3. choose to set the link weights to be inversely proportional to link capacity in order to discourage traffic from using lowbandwidth links. ospf does not mandate a policy for how link weights are set that is the job of the network administrator, but instead provides the mecha nisms protocol for determining leastcost path routing for the given set of link weights. with ospf, a router broadcasts routing information to all other routers in the autonomous system, not just to its neighboring routers. a router broadcasts linkstate information whenever there is a change in a links state for example, a change in cost or a change in updown status. it also broadcasts a links state periodically at least once every 30 minutes, even if the links state has not changed. rfc 2328 notes that this periodic updating of link state advertisements adds robustness to the link state algorithm. ospf advertisements are contained in ospf messages that are setting ospf link weights our discussion of linkstate routing has implicitly assumed that link weights are set, a routing algorithm such as ospf is run, and traffic flows according to the routing tables computed by the ls algorithm. in terms of cause and effect, the link weights are given i.e., they come first and result via dijkstras algorithm in routing paths that minimize overall cost. in this viewpoint, link weights reflect the cost of using a link for example, if link weights are inversely proportional to capacity, then the use of highcapacity links would have smaller weight and thus be more attractive from a routing standpoint and dijsktras algorithm serves to minimize overall cost. in practice, the cause and effect relationship between link weights and routing paths may be reversed, with network operators configuring link weights in order to obtain rout ing paths that achieve certain traffic engineering goals fortz 2000, fortz 2002. for example, suppose a network operator has an estimate of traffic flow entering the network at each ingress point and destined for each egress point. the operator may then want to put in place a specific routing of ingresstoegress flows that minimizes the maximum utilization over all of the networks links. but with a routing algorithm such as ospf, the operators main knobs for tuning the routing of flows through the network are the link weights. thus, in order to achieve the goal of minimizing the maximum link utilization, the operator must find the set of link weights that achieves this goal. this is a reversal of the cause and effect relationshipthe desired routing of flows is known, and the ospf link weights must be found such that the ospf routing algorithm results in this desired routing of flows.principles in practice m05_kuro5469_08_ge_c05.indd 427 03052021 1642 428 chapter 5 the network layer control plane carried directly by ip, with an upperlayer protocol of 89 for ospf. thus, the ospf protocol must itself implement functionality such as reliable message transfer and linkstate broadcast. the ospf protocol also checks that links are operational via\n",
      "\n",
      "The OSI MODEL is a conceptual framework used to understand how data communications work in a network. The basic layers of the OSI model include:\n",
      "\n",
      "1. Physical Layer (Layer 1): Defines the physical means of transferring data between devices.\n",
      "2. Data Link Layer (Layer 2): Provides error-free transfer of data frames between two nodes on the same network.\n",
      "3. Network Layer (Layer 3): Routes data between different networks, identifying the source and destination IP addresses.\n",
      "4. Transport Layer (Layer 4): Ensures reliable data transfer by providing error-checking and retransmission capabilities.\n",
      "5. Session Layer (Layer 5): Establishes, manages, and terminates connections between applications running on endpoints.\n",
      "6. Presentation Layer (Layer 6): Converts data into a format that can be understood by the receiving device.\n",
      "7. Application Layer (Layer 7): Provides services to end-user applications, such as email, web browsing, and file transfer.\n",
      "\n",
      "The five layers of the OSI model are interconnected and work together to enable communication between devices on different networks.\n",
      "\n",
      "In your response about specializing in networking, it seems you have a background in mathematics and systems engineering. You've worked with various projects that involved machine learning and data analysis, including getting two machines from the same vendor to talk to each other using TCP/IP.\n",
      "\n",
      "As for advice for students entering the networking field, you mentioned diversity among network developers and researchers. To increase your chances of success, I would recommend:\n",
      "\n",
      "* Building a diverse set of skills, such as programming languages (e.g., C++, Python), data structures, algorithms, and computer vision.\n",
      "* Focusing on areas that interest you, such as architecture, networking protocols, or system design.\n",
      "* Participating in open-source projects to gain experience working with other developers.\n",
      "* Staying up-to-date with industry developments, attending conferences, and reading books to expand your knowledge.\n",
      "\n",
      "Regarding specific projects, I couldn't find any information about a particular project that stands out. However, networking is a constantly evolving field, and there are many opportunities for innovation and entrepreneurship in this area.\n",
      "\n",
      "Some examples of exciting projects in the networking field include:\n",
      "\n",
      "* Researching and implementing new network protocols or technologies.\n",
      "* Developing applications or tools to improve network performance, security, or efficiency.\n",
      "* Designing and deploying cloud-native or edge computing architectures.\n",
      "* Creating open-source infrastructure or software to support emerging use cases.\n",
      "\n",
      "Overall, specializing in networking requires a strong foundation in mathematics, computer science, and networking protocols. With dedication and persistence, you can develop a successful career in this field and contribute to the development of cutting-edge technologies that shape our digital world."
     ]
    }
   ],
   "source": [
    "model = \"llama3.2:1b\"\n",
    "while True:\n",
    "    query = input(\"\\nEnter your query (or type 'exit' to quit): \").strip()\n",
    "    if query.lower() == \"exit\":\n",
    "        break\n",
    "\n",
    "    relevant_chunks = retrieve_relevant_chunkss(query, collection, top_k=10)\n",
    "\n",
    "    print(\"\\n🔍 Relevant Chunks:\")\n",
    "    for i, chunk in enumerate(relevant_chunks):\n",
    "        print(f\"{i + 1}. {chunk}\\n\")\n",
    "\n",
    "\n",
    "    context = \" \".join(relevant_chunks)\n",
    "    model_query = f\"Briefly explain the {query} with the following context from textbook: {context}\"\n",
    "    generate_text(model_query, model)"
   ]
  }
 ],
 "metadata": {
  "kernelspec": {
   "display_name": "venv",
   "language": "python",
   "name": "python3"
  },
  "language_info": {
   "codemirror_mode": {
    "name": "ipython",
    "version": 3
   },
   "file_extension": ".py",
   "mimetype": "text/x-python",
   "name": "python",
   "nbconvert_exporter": "python",
   "pygments_lexer": "ipython3",
   "version": "3.11.9"
  }
 },
 "nbformat": 4,
 "nbformat_minor": 2
}
